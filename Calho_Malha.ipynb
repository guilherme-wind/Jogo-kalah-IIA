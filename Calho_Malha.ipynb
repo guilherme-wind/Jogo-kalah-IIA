{
 "cells": [
  {
   "cell_type": "markdown",
   "id": "1bad4a1b",
   "metadata": {},
   "source": [
    "Teste com pesos normais"
   ]
  },
  {
   "cell_type": "code",
   "execution_count": 1,
   "id": "e5bd6067",
   "metadata": {},
   "outputs": [],
   "source": [
    "from func_aux import *\n",
    "\n",
    "def func_44(estado,jogador):\n",
    "    # Define weights for different evaluation factors\n",
    "    SCORE_WEIGHT = 1\n",
    "    SEEDS_WEIGHT = 1\n",
    "    PROGRESS_WEIGHT = 1\n",
    "    PITS_WEIGHT = 1\n",
    "\n",
    "    # Get the player's score and the opponent's score\n",
    "    player_score = estado.state[estado.SOUTH_SCORE_PIT] if jogador == 0 else estado.state[estado.NORTH_SCORE_PIT]\n",
    "    opponent_score = estado.state[estado.NORTH_SCORE_PIT] if jogador == 0 else estado.state[estado.SOUTH_SCORE_PIT]\n",
    "\n",
    "    # Calculate the number of seeds in the player's pits and the opponent's pits\n",
    "    player_pits = estado.state[:estado.SOUTH_SCORE_PIT] if jogador == 0 else estado.state[estado.SOUTH_SCORE_PIT:estado.NORTH_SCORE_PIT]\n",
    "    opponent_pits = estado.state[estado.SOUTH_SCORE_PIT:estado.NORTH_SCORE_PIT] if jogador == 0 else estado.state[:estado.SOUTH_SCORE_PIT]\n",
    "\n",
    "    # Calculate the difference in scores and seeds\n",
    "    score_diff = player_score - opponent_score\n",
    "    seeds_diff = sum(player_pits) - sum(opponent_pits)\n",
    "\n",
    "    # Consider the game's progress by checking how close each player is to winning\n",
    "    total_seeds = sum(player_pits) + sum(opponent_pits)\n",
    "    progress = 2 * (player_score - opponent_score) / total_seeds\n",
    "\n",
    "    # Encourage capturing opponent's pits and having fewer seeds in own pits\n",
    "    player_pit_values = [min(pit, 6) for pit in player_pits]\n",
    "    opponent_pit_values = [min(pit, 6) for pit in opponent_pits]\n",
    "    pits_diff = sum(opponent_pit_values) - sum(player_pit_values)\n",
    "\n",
    "    # Penalize moves that lead to the opponent capturing more seeds\n",
    "    next_states = [estado.real_move(move) for move in estado.get_legal_moves()]\n",
    "    opponent_capture_penalty = 0\n",
    "    for state in next_states:\n",
    "        south_pieces = sum(state.state[:state.SOUTH_SCORE_PIT])\n",
    "        north_pieces = sum(state.state[state.SOUTH_SCORE_PIT:state.NORTH_SCORE_PIT])\n",
    "        opponent_capture_penalty += (south_pieces - north_pieces) * 0.05\n",
    "\n",
    "\n",
    "    # Calculate the final evaluation value\n",
    "    evaluation = (\n",
    "        SCORE_WEIGHT * score_diff +\n",
    "        SEEDS_WEIGHT * seeds_diff +\n",
    "        PROGRESS_WEIGHT * progress +\n",
    "        PITS_WEIGHT * pits_diff -\n",
    "        opponent_capture_penalty\n",
    "    )\n",
    "\n",
    "    return evaluation\n"
   ]
  },
  {
   "cell_type": "markdown",
   "id": "cca14c22",
   "metadata": {},
   "source": [
    "Teste - Jogador com pesos diferentes"
   ]
  },
  {
   "cell_type": "code",
   "execution_count": 24,
   "id": "14d51602",
   "metadata": {},
   "outputs": [],
   "source": [
    "def calculate_score_difference(estado, jogador):\n",
    "    player_score = estado.state[estado.SOUTH_SCORE_PIT] if jogador == 0 else estado.state[estado.NORTH_SCORE_PIT]\n",
    "    opponent_score = estado.state[estado.NORTH_SCORE_PIT] if jogador == 0 else estado.state[estado.SOUTH_SCORE_PIT]\n",
    "    return player_score - opponent_score\n",
    "\n",
    "def calculate_seeds_difference(estado, jogador):\n",
    "    player_pits = estado.state[:estado.SOUTH_SCORE_PIT] if jogador == 0 else estado.state[estado.SOUTH_SCORE_PIT:estado.NORTH_SCORE_PIT]\n",
    "    opponent_pits = estado.state[estado.SOUTH_SCORE_PIT:estado.NORTH_SCORE_PIT] if jogador == 0 else estado.state[:estado.SOUTH_SCORE_PIT]\n",
    "    return sum(player_pits) - sum(opponent_pits)\n",
    "\n",
    "def calculate_progress(estado, jogador):\n",
    "    player_score = estado.state[estado.SOUTH_SCORE_PIT] if jogador == 0 else estado.state[estado.NORTH_SCORE_PIT]\n",
    "    opponent_score = estado.state[estado.NORTH_SCORE_PIT] if jogador == 0 else estado.state[estado.SOUTH_SCORE_PIT]\n",
    "    total_seeds = sum(estado.state[:estado.NORTH_SCORE_PIT])\n",
    "    return 2 * (player_score - opponent_score) / total_seeds\n",
    "\n",
    "def calculate_pits_difference(estado, jogador):\n",
    "    player_pits = estado.state[:estado.SOUTH_SCORE_PIT] if jogador == 0 else estado.state[estado.SOUTH_SCORE_PIT:estado.NORTH_SCORE_PIT]\n",
    "    opponent_pits = estado.state[estado.SOUTH_SCORE_PIT:estado.NORTH_SCORE_PIT] if jogador == 0 else estado.state[:estado.SOUTH_SCORE_PIT]\n",
    "    \n",
    "    player_pit_values = [min(pit, 6) for pit in player_pits]\n",
    "    opponent_pit_values = [min(pit, 6) for pit in opponent_pits]\n",
    "    \n",
    "    return sum(opponent_pit_values) - sum(player_pit_values)\n",
    "\n",
    "def calculate_opponent_capture_penalty(estado, jogador):\n",
    "    next_states = [estado.real_move(move) for move in estado.get_legal_moves()]\n",
    "    opponent_capture_penalty = 0\n",
    "    \n",
    "    for state in next_states:\n",
    "        south_pieces = sum(state.state[:state.SOUTH_SCORE_PIT])\n",
    "        north_pieces = sum(state.state[state.SOUTH_SCORE_PIT:state.NORTH_SCORE_PIT])\n",
    "        opponent_capture_penalty += (south_pieces - north_pieces) * 0.05\n",
    "    \n",
    "    return opponent_capture_penalty\n",
    "\n",
    "def func_44_teste(estado, jogador):\n",
    "    # Define weights for different evaluation factors\n",
    "    SCORE_WEIGHT = 4\n",
    "    SEEDS_WEIGHT = 1\n",
    "    PROGRESS_WEIGHT = 2\n",
    "    PITS_WEIGHT = 1\n",
    "\n",
    "    # Calculate the final evaluation value\n",
    "    evaluation = (\n",
    "        SCORE_WEIGHT * calculate_score_difference(estado, jogador) +\n",
    "        SEEDS_WEIGHT * calculate_seeds_difference(estado, jogador) +\n",
    "        PROGRESS_WEIGHT * calculate_progress(estado, jogador) +\n",
    "        PITS_WEIGHT * calculate_pits_difference(estado, jogador) -\n",
    "        calculate_opponent_capture_penalty(estado, jogador)\n",
    "    )\n",
    "\n",
    "    return evaluation"
   ]
  },
  {
   "cell_type": "code",
   "execution_count": 12,
   "id": "ec44944a",
   "metadata": {},
   "outputs": [],
   "source": [
    "def chapiteau_algorithm(estado, jogador):\n",
    "    if estado.is_game_over():\n",
    "        aux = estado.result()\n",
    "        return aux*100 if jogador == estado.SOUTH else aux*-100\n",
    "    \n",
    "    player_pits = estado.state[:estado.SOUTH_SCORE_PIT] if jogador == 0 else estado.state[estado.SOUTH_SCORE_PIT:estado.NORTH_SCORE_PIT]\n",
    "    opponent_pits = estado.state[estado.SOUTH_SCORE_PIT:estado.NORTH_SCORE_PIT] if jogador == 0 else estado.state[:estado.SOUTH_SCORE_PIT]\n",
    "    return sum(player_pits) - sum(opponent_pits)"
   ]
  },
  {
   "cell_type": "markdown",
   "id": "15ba74d8",
   "metadata": {},
   "source": [
    "Testes de empenho"
   ]
  },
  {
   "cell_type": "code",
   "execution_count": 26,
   "id": "b20f9ce9",
   "metadata": {},
   "outputs": [
    {
     "name": "stdout",
     "output_type": "stream",
     "text": [
      "({'Teste': 87, 'Chapiteau': 13, 'Empate': 0}, {'Teste': 87, 'Chapiteau': 11, 'Empate': 2}, {'Teste': 174, 'Chapiteau': 24, 'Empate': 2}, {'Teste': 524, 'Chapiteau': 74})\n"
     ]
    }
   ],
   "source": [
    "grupo44 = JogadorAlfaBeta('Teste', 6, func_44_teste)\n",
    "chapiteau = JogadorAlfaBeta('Chapiteau', 6, chapiteau_algorithm)\n",
    "#chapiteau = JogadorAlfaBeta('Cascão', 6, func_44)\n",
    "jogo=Kalah(10)\n",
    "print(jogaNpares(jogo,100,grupo44,chapiteau))"
   ]
  },
  {
   "cell_type": "code",
   "execution_count": 17,
   "id": "ccf8f4f7",
   "metadata": {},
   "outputs": [
    {
     "name": "stdout",
     "output_type": "stream",
     "text": [
      "fuck me\n"
     ]
    }
   ],
   "source": [
    "#grupo44 = JogadorAlfaBeta('Cascão', 6, func_44)\n",
    "#chapiteau = JogadorAlfaBeta('Chapiteau', 6, chapiteau_algorithm)\n",
    "#jogo=Kalah(10)\n",
    "#print(jogaNpares(jogo,10,grupo44,chapiteau))\n",
    "print(\"fuck me\")"
   ]
  },
  {
   "cell_type": "code",
   "execution_count": null,
   "id": "e165aed4",
   "metadata": {},
   "outputs": [],
   "source": []
  }
 ],
 "metadata": {
  "kernelspec": {
   "display_name": "Python 3 (ipykernel)",
   "language": "python",
   "name": "python3"
  },
  "language_info": {
   "codemirror_mode": {
    "name": "ipython",
    "version": 3
   },
   "file_extension": ".py",
   "mimetype": "text/x-python",
   "name": "python",
   "nbconvert_exporter": "python",
   "pygments_lexer": "ipython3",
   "version": "3.11.4"
  }
 },
 "nbformat": 4,
 "nbformat_minor": 5
}
